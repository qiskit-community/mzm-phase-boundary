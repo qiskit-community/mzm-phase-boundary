{
 "cells": [
  {
   "cell_type": "markdown",
   "id": "eb1230c1",
   "metadata": {},
   "source": [
    "# Analyze Data"
   ]
  },
  {
   "cell_type": "code",
   "execution_count": 1,
   "id": "a22eace5",
   "metadata": {},
   "outputs": [],
   "source": [
    "from qiskit_nature.operators.second_quantization import FermionicOp\n",
    "from qiskit_nature.mappers.second_quantization import FermionicMapper, JordanWignerMapper\n",
    "from qiskit_nature.converters.second_quantization.qubit_converter import QubitConverter\n",
    "\n",
    "from qiskit.opflow import (I, X, Y, Z, Zero, One, MatrixEvolution, PauliTrotterEvolution, Suzuki,\n",
    "                           StateFn, Zero, One, PauliExpectation, PauliOp, SummedOp, OperatorBase)\n",
    "\n",
    "from qiskit.circuit import Parameter\n",
    "\n",
    "import scipy.linalg as lng\n",
    "import seaborn as sns\n",
    "import pandas as pd\n",
    "import numpy as np\n",
    "import matplotlib.pyplot as plt\n",
    "import copy"
   ]
  },
  {
   "cell_type": "markdown",
   "id": "a9e1a50a",
   "metadata": {},
   "source": [
    "## Import the Data"
   ]
  },
  {
   "cell_type": "code",
   "execution_count": 3,
   "id": "f0b76cda",
   "metadata": {},
   "outputs": [],
   "source": [
    "m_range = [-1.5,-1.3,-1.1,-0.9,-0.7,-0.5,-0.3,-0.1,0.1,0.3,0.5,0.7,0.9,1.1,1.3,1.5]\n",
    "y_range = [-1.5,-1.3,-1.1,-0.9,-0.7,-0.5,-0.3,-0.1,0.1,0.3,0.5,0.7,0.9,1.1,1.3,1.5]\n",
    "\n",
    "\n",
    "w = []\n",
    "d = []\n",
    "z = []\n",
    "for m_set in m_range:\n",
    "    w_y = []\n",
    "    d_y = []\n",
    "    z_y = []\n",
    "    for y_set in y_range:\n",
    "        w_y.append(np.load('../data/w_N_2_c_0.3_dt_0.7_t_5.0_w0_-3.5_dw_0.14_m_'+str(m_set)+'_x_1.5_y_'+str(y_set)+'_z_0.4.npy') )\n",
    "        d_y.append(np.load('../data/decoder_N_2_c_0.3_dt_0.7_t_5.0_w0_-3.5_dw_0.14_m_'+str(m_set)+'_x_1.5_y_'+str(y_set)+'_z_0.4.npy') )\n",
    "        z_y.append(np.load('../data/SE_1trot_N_2_c_0.3_dt_0.7_t_5.0_w0_-3.5_dw_0.14_m_'+str(m_set)+'_x_1.5_y_'+str(y_set)+'_z_0.4.npy') )\n",
    "    w.append(w_y)\n",
    "    d.append(d_y)\n",
    "    z.append(z_y)"
   ]
  },
  {
   "cell_type": "markdown",
   "id": "f98b72e6",
   "metadata": {},
   "source": [
    "## Do the classical simulation using eigenvalues"
   ]
  },
  {
   "cell_type": "code",
   "execution_count": 4,
   "id": "c472b164",
   "metadata": {},
   "outputs": [
    {
     "name": "stderr",
     "output_type": "stream",
     "text": [
      "<ipython-input-4-ffd6f697b8a7>:1: UserWarning: The default value for `display_format` will be changed from 'dense' to 'sparse' in version 0.3.0. Once that happens, you must specify display_format='dense' directly.\n",
      "  hm = sum(FermionicOp(label) for label in ['IN', 'NI'])\n"
     ]
    }
   ],
   "source": [
    "hm = sum(FermionicOp(label) for label in ['IN', 'NI'])\n",
    "ht = FermionicOp('+-') - FermionicOp('-+')\n",
    "hD = FermionicOp('++') - FermionicOp('--')\n",
    "hU = sum(FermionicOp(label) for label in ['NN'])\n",
    "\n",
    "mapper = JordanWignerMapper()\n",
    "converter = QubitConverter(mapper=mapper, two_qubit_reduction=True)\n",
    "\n",
    "mu = Parameter('μ')\n",
    "TT = Parameter('T')\n",
    "DD = Parameter('Δ')\n",
    "UU = Parameter('U')\n",
    "\n",
    "hm_pauli = mu*(converter.convert(hm))\n",
    "ht_pauli = TT*(converter.convert(ht))\n",
    "hD_pauli = DD*(converter.convert(hD))\n",
    "hU_pauli = UU*(converter.convert(hU))\n",
    "\n",
    "ham_pauli = hm_pauli + ht_pauli  + hD_pauli + hU_pauli"
   ]
  },
  {
   "cell_type": "code",
   "execution_count": 5,
   "id": "1ebef88c",
   "metadata": {},
   "outputs": [],
   "source": [
    "y_a = []\n",
    "m_a = []\n",
    "de_a = []\n",
    "for m_i in range(0,16):\n",
    "    y_l = []\n",
    "    m_l = []\n",
    "    err_l = []\n",
    "    de_l = []\n",
    "    ded_l = []\n",
    "    for y_i in range(0,16):\n",
    "        # direct diagonalization of the Pauli Hamiltonian\n",
    "        m_set = m_range[m_i]\n",
    "        x_set = 1.5\n",
    "        y_set = y_range[y_i]\n",
    "        z_set = -0.4\n",
    "        T_set = x_set + y_set\n",
    "        D_set = x_set - y_set\n",
    "        U_set = 4*z_set\n",
    "        mu_set = -2*(m_set + z_set)\n",
    "        param_bind = {TT: T_set, DD: D_set, UU: U_set, mu: mu_set}\n",
    "        evalues, evects = lng.eig(ham_pauli.bind_parameters(param_bind).to_matrix())\n",
    "        evalues = np.sort(evalues)\n",
    "        DE = evalues[1]-evalues[0]\n",
    "        y_l.append(y_i)\n",
    "        m_l.append(m_i)\n",
    "        de_l.append(DE)\n",
    "    y_a.append(y_l)\n",
    "    m_a.append(m_l)\n",
    "    de_a.append(de_l)\n",
    "\n"
   ]
  },
  {
   "cell_type": "code",
   "execution_count": 6,
   "id": "794037a1",
   "metadata": {},
   "outputs": [
    {
     "data": {
      "text/plain": [
       "Text(33.0, 0.5, 'm')"
      ]
     },
     "execution_count": 6,
     "metadata": {},
     "output_type": "execute_result"
    },
    {
     "data": {
      "image/png": "[encoded data removed]",
      "text/plain": [
       "<Figure size 432x288 with 2 Axes>"
      ]
     },
     "metadata": {
      "needs_background": "light"
     },
     "output_type": "display_data"
    }
   ],
   "source": [
    "# Create a dataset\n",
    "df = pd.DataFrame(np.array(np.real(de_a)),columns=y_range, index = m_range)\n",
    "\n",
    "# Default heatmap\n",
    "p1 = sns.heatmap(df)\n",
    "plt.title('From Hamiltonain', fontsize = 20) # title with fontsize 20\n",
    "plt.xlabel('y', fontsize = 15) # x-axis label with fontsize 15\n",
    "plt.ylabel('m', fontsize = 15) # y-axis label with fontsize 15"
   ]
  },
  {
   "cell_type": "markdown",
   "id": "afa627e2",
   "metadata": {},
   "source": [
    "## Find the energy transistions from the data"
   ]
  },
  {
   "cell_type": "code",
   "execution_count": 7,
   "id": "fb8c7317",
   "metadata": {},
   "outputs": [],
   "source": [
    "#Calculates the average derivative of the data of a range l\n",
    "def avg_div(zl,wl,l):\n",
    "    L = len(wl)\n",
    "    dzdw_l = []\n",
    "    w2_l = []\n",
    "    for i in range(L-2*l):\n",
    "        z1_avg = 0\n",
    "        z2_avg = 0\n",
    "        for a in range(l):\n",
    "            z1_avg += zl[i+a]\n",
    "            z2_avg += zl[i+a+l]\n",
    "        dz = z2_avg - z1_avg\n",
    "        dw = wl[i+l]-wl[i]\n",
    "        dzdw = dz/dw\n",
    "        dzdw_l.append(dzdw)\n",
    "        w2_l.append((wl[i+2*l]+wl[i])/2)\n",
    "    return dzdw_l,w2_l\n",
    "    "
   ]
  },
  {
   "cell_type": "code",
   "execution_count": 8,
   "id": "b647a8ce",
   "metadata": {},
   "outputs": [],
   "source": [
    "# finds the zeros of the derivative of the data\n",
    "def find_zeros(dz,w2,offset):\n",
    "    zeros = []\n",
    "    fake = 1\n",
    "    for i in range(len(dz)-1):\n",
    "        if (dz[i]+offset)*(dz[i+1]+offset) < 0: \n",
    "            fake = np.mod(fake+1,2)\n",
    "            if fake == 0:\n",
    "                zeros.append((w2[i+1]+w2[i])/2)\n",
    "    return zeros "
   ]
  },
  {
   "cell_type": "code",
   "execution_count": 9,
   "id": "1a2da5ea",
   "metadata": {},
   "outputs": [],
   "source": [
    "#Finds minimums and sorts them into the first and second enegy transistions\n",
    "offset = 0.0\n",
    "E1 = []\n",
    "E2 = []\n",
    "Ly = len(y_range)\n",
    "Lm = len(m_range)\n",
    "for mi in range(Ly):\n",
    "    E1_y = []\n",
    "    E2_y = []\n",
    "    for yi in range(Lm):\n",
    "        zl = z[mi][yi]\n",
    "        wl = w[mi][yi]\n",
    "        dz,w2 = avg_div(zl,wl,4)\n",
    "        zeros = find_zeros(dz,w2,offset)\n",
    "        if len(zeros) == 2:\n",
    "            E1_z = np.abs(zeros[0])\n",
    "            E2_z = np.abs(zeros[1])\n",
    "        elif len(zeros) == 1:\n",
    "            E1_z = np.abs(zeros[0])\n",
    "            E2_z = 3\n",
    "        else:\n",
    "            E1_z = 3\n",
    "            E2_z = 3\n",
    "        #print(mi,yi,zeros,[E1_z,E2_z])\n",
    "        E1_y.append(E1_z)\n",
    "        E2_y.append(E2_z)\n",
    "    E1.append(E1_y)\n",
    "    E2.append(E2_y)\n",
    "    \n",
    "#Finds the best value between +m and -m\n",
    "mL = len(m_range)\n",
    "yL = len(y_range)\n",
    "E1_sym = copy.deepcopy(E1)\n",
    "for mi in range(int(mL/2)):\n",
    "    for yi in range(yL):\n",
    "        E1_sym[mi][yi] = min(E1[mi][yi],E1[mL-mi-1][yi])\n",
    "        E1_sym[mL-mi-1][yi] = min(E1[mi][yi],E1[mL-mi-1][yi])\n",
    "\n",
    "#Cuts off the negetive y values        \n",
    "mL = len(m_range)\n",
    "yL = len(y_range)\n",
    "E1_half = []\n",
    "de_half = []\n",
    "for mi in range(0,mL):\n",
    "    E1_half_m = []\n",
    "    de_half_m = []\n",
    "    for yi in range(int(yL/2),yL):\n",
    "        E1_half_m.append(E1_sym[mi][yi])\n",
    "        de_half_m.append(de_a[mi][yi])\n",
    "    E1_half.append(E1_half_m)\n",
    "    de_half.append(de_half_m)\n",
    "y_range_half = y_range[int(yL/2):yL]"
   ]
  },
  {
   "cell_type": "code",
   "execution_count": 10,
   "id": "d8277564",
   "metadata": {},
   "outputs": [
    {
     "data": {
      "text/plain": [
       "Text(33.0, 0.5, 'm')"
      ]
     },
     "execution_count": 10,
     "metadata": {},
     "output_type": "execute_result"
    },
    {
     "data": {
      "image/png": "[encoded data removed]",
      "text/plain": [
       "<Figure size 432x288 with 2 Axes>"
      ]
     },
     "metadata": {
      "needs_background": "light"
     },
     "output_type": "display_data"
    }
   ],
   "source": [
    "# Create a dataset\n",
    "df = pd.DataFrame(np.array(E1_half),columns=y_range_half, index = m_range)\n",
    "\n",
    "# Default heatmap\n",
    "p1 = sns.heatmap(df)\n",
    "plt.title('E1 Lagos', fontsize = 20) # title with fontsize 20\n",
    "plt.xlabel('y', fontsize = 15) # x-axis label with fontsize 15\n",
    "plt.ylabel('m', fontsize = 15) # y-axis label with fontsize 15"
   ]
  },
  {
   "cell_type": "code",
   "execution_count": 11,
   "id": "e7282aea",
   "metadata": {},
   "outputs": [
    {
     "data": {
      "text/plain": [
       "Text(33.0, 0.5, 'm')"
      ]
     },
     "execution_count": 11,
     "metadata": {},
     "output_type": "execute_result"
    },
    {
     "data": {
      "image/png": "[encoded data removed]",
      "text/plain": [
       "<Figure size 432x288 with 2 Axes>"
      ]
     },
     "metadata": {
      "needs_background": "light"
     },
     "output_type": "display_data"
    }
   ],
   "source": [
    "# Create a dataset\n",
    "df = pd.DataFrame(np.array(np.real(de_half)),columns=y_range_half, index = m_range)\n",
    "\n",
    "# Default heatmap\n",
    "p1 = sns.heatmap(df)\n",
    "plt.title('From Hamiltonain', fontsize = 20) # title with fontsize 20\n",
    "plt.xlabel('y', fontsize = 15) # x-axis label with fontsize 15\n",
    "plt.ylabel('m', fontsize = 15) # y-axis label with fontsize 15"
   ]
  },
  {
   "cell_type": "code",
   "execution_count": 12,
   "id": "009ef0e7",
   "metadata": {},
   "outputs": [
    {
     "name": "stderr",
     "output_type": "stream",
     "text": [
      "<ipython-input-12-c684fbf50a18>:6: RuntimeWarning: invalid value encountered in sqrt\n",
      "  data2 = [shift+np.sqrt(zp**2 + zp*(x + y) + x*y) for y in y_range_line]\n",
      "<ipython-input-12-c684fbf50a18>:7: RuntimeWarning: invalid value encountered in sqrt\n",
      "  data3 = [shift-np.sqrt(zp**2 + zp*(x + y) + x*y) for y in y_range_line]\n"
     ]
    },
    {
     "data": {
      "image/png": "[encoded data removed]",
      "text/plain": [
       "<Figure size 432x288 with 2 Axes>"
      ]
     },
     "metadata": {
      "needs_background": "light"
     },
     "output_type": "display_data"
    }
   ],
   "source": [
    "adj = 4.9\n",
    "shift = 8\n",
    "zp = (z_set)*adj\n",
    "x = x_set*adj\n",
    "y_range_line = [0.01*yi*adj for yi in range(200)]\n",
    "data2 = [shift+np.sqrt(zp**2 + zp*(x + y) + x*y) for y in y_range_line]\n",
    "data3 = [shift-np.sqrt(zp**2 + zp*(x + y) + x*y) for y in y_range_line]\n",
    "\n",
    "plt.plot(y_range_line,data2,color = 'blue', linewidth = 5)\n",
    "plt.plot(y_range_line,data3, color = 'blue', linewidth = 5)\n",
    "p1 = sns.heatmap(df,vmax=3.0)"
   ]
  },
  {
   "cell_type": "markdown",
   "id": "b5fbdc63",
   "metadata": {},
   "source": [
    "## Upload classical algorithm simulation data "
   ]
  },
  {
   "cell_type": "code",
   "execution_count": 13,
   "id": "ce3c39a5",
   "metadata": {},
   "outputs": [],
   "source": [
    "import numpy as np\n",
    "from qiskit.circuit import Parameter\n",
    "import scipy.linalg as lng\n",
    "import matplotlib.pyplot as plt\n",
    "import pandas as pd\n",
    "import seaborn as sns\n",
    "\n",
    "# Trotterize that Unitary\n",
    "dt = 0.7  #[1.2,0.8,0.7,0.6,0.5]\n",
    "tf = 5.0\n",
    "trot_steps = int(tf/dt)\n",
    "#trot_op_1 = PauliTrotterEvolution(trotter_mode=Suzuki(order=2, reps=trot_steps)).convert(evo_and_obsv)\n",
    "\n",
    "# parameters\n",
    "w0 = 3.5\n",
    "dw = 0.14\n",
    "c_set = 0.3 #[0.3 for all ,0.1 for t = 0.7]\n",
    "x_set = 1.5\n",
    "z_set = 0.4 #[0.0 for c = 0.3 and dt = 1.2, 0.4 for all]\n",
    "t_set = tf\n",
    "dt_set = dt\n",
    "\n",
    "\n",
    "mu = Parameter('μ')\n",
    "TT = Parameter('T')\n",
    "DD = Parameter('Δ')\n",
    "UU = Parameter('U')\n",
    "\n",
    "m_range = [-1.5,-1.3,-1.1,-0.9,-0.7,-0.5,-0.3,-0.1,0.1,0.3,0.5,0.7,0.9,1.1,1.3,1.5]\n",
    "y_range = [-1.5,-1.3,-1.1,-0.9,-0.7,-0.5,-0.3,-0.1,0.1,0.3,0.5,0.7,0.9,1.1,1.3,1.5]\n",
    "w_range = np.linspace(-w0, w0, int(2*w0/dw))"
   ]
  },
  {
   "cell_type": "code",
   "execution_count": 14,
   "id": "6fddaea2",
   "metadata": {},
   "outputs": [],
   "source": [
    "PTL = []\n",
    "for m_i in range(0,16):\n",
    "    PTL_m = []\n",
    "    for y_i in range(0,16):\n",
    "        m_set = m_range[m_i]\n",
    "        y_set = y_range[y_i]\n",
    "        PTL_ym = np.load('../data/SIM_trot_N_2_c_'+str(c_set)+'_dt_'+str(dt_set)+'_t_'+str(t_set)+'_w0_'+str(w0)+'_dw_'+str(dw)+'_m_'+str(m_set)+'_x_'+str(x_set)+'_y_'+str(y_set)+'_z_'+str(z_set)+'.npy')\n",
    "        PTL_m.append(PTL_ym)\n",
    "    PTL.append(PTL_m)"
   ]
  },
  {
   "cell_type": "code",
   "execution_count": 15,
   "id": "46bcd5b9",
   "metadata": {},
   "outputs": [],
   "source": [
    "#Finds minimums and sorts them into the first and second enegy transistions\n",
    "y_a = []\n",
    "m_a = []\n",
    "deT_a = []\n",
    "E1s = []\n",
    "for m_i in range(0,16):\n",
    "    y_l = []\n",
    "    m_l = []\n",
    "    deT_l = []\n",
    "    E1s_l = []\n",
    "    for y_i in range(0,16):\n",
    "        m_set = m_range[m_i]\n",
    "        y_set = y_range[y_i]\n",
    "        i_minT = np.argmin(PTL[m_i][y_i])\n",
    "        \n",
    "        zl = PTL[m_i][y_i]\n",
    "        wl = w_range\n",
    "        dz,w2 = avg_div(zl,wl,7)\n",
    "        zeros = find_zeros(dz,w2,offset)        \n",
    "        E1s_y = zeros[0]\n",
    "        DET = w_range[i_minT]\n",
    "        \n",
    "        #print(m_i,y_i,w_range[i_minT],zeros)\n",
    "        #print(m_i,y_i,DET,E1_y)\n",
    "        y_l.append(y_i)\n",
    "        m_l.append(m_i)\n",
    "        deT_l.append(np.abs(DET))\n",
    "        E1s_l.append(np.abs(DET))\n",
    "    y_a.append(y_l)\n",
    "    m_a.append(m_l)\n",
    "    deT_a.append(deT_l)\n",
    "    E1s.append(E1s_l)\n",
    "\n",
    "\n",
    "    \n",
    "#Finds the best value between +m and -m\n",
    "mL = len(m_range)\n",
    "yL = len(y_range)\n",
    "E1s_sym = copy.deepcopy(E1s)\n",
    "for mi in range(int(mL/2)):\n",
    "    for yi in range(yL):\n",
    "        E1s_sym[mi][yi] = min(E1s[mi][yi],E1s[mL-mi-1][yi])\n",
    "        E1s_sym[mL-mi-1][yi] = min(E1s[mi][yi],E1s[mL-mi-1][yi])\n",
    "\n",
    "#Cuts off the negetive y values        \n",
    "mL = len(m_range)\n",
    "yL = len(y_range)\n",
    "E1s_half = []\n",
    "for mi in range(0,mL):\n",
    "    E1s_half_m = []\n",
    "    for yi in range(int(yL/2),yL):\n",
    "        E1s_half_m.append(E1s_sym[mi][yi])\n",
    "    E1s_half.append(E1s_half_m)\n",
    "y_range_half = y_range[int(yL/2):yL]"
   ]
  },
  {
   "cell_type": "code",
   "execution_count": 16,
   "id": "5debb773",
   "metadata": {},
   "outputs": [
    {
     "data": {
      "text/plain": [
       "Text(33.0, 0.5, 'm')"
      ]
     },
     "execution_count": 16,
     "metadata": {},
     "output_type": "execute_result"
    },
    {
     "data": {
      "image/png": "[encoded data removed]",
      "text/plain": [
       "<Figure size 432x288 with 2 Axes>"
      ]
     },
     "metadata": {
      "needs_background": "light"
     },
     "output_type": "display_data"
    }
   ],
   "source": [
    "# Create a dataset\n",
    "df = pd.DataFrame(np.array(E1s_half),columns=y_range_half, index = m_range)\n",
    "\n",
    "# Default heatmap\n",
    "p1 = sns.heatmap(df)\n",
    "plt.title('E simulation', fontsize = 20) # title with fontsize 20\n",
    "plt.xlabel('y', fontsize = 15) # x-axis label with fontsize 15\n",
    "plt.ylabel('m', fontsize = 15) # y-axis label with fontsize 15"
   ]
  },
  {
   "cell_type": "code",
   "execution_count": 17,
   "id": "c3295cda",
   "metadata": {},
   "outputs": [
    {
     "name": "stderr",
     "output_type": "stream",
     "text": [
      "<ipython-input-17-b37a8b5642f2>:6: RuntimeWarning: invalid value encountered in sqrt\n",
      "  data2 = [shift+np.sqrt(zp**2 + zp*(x + y) + x*y) for y in y_range_line]\n",
      "<ipython-input-17-b37a8b5642f2>:7: RuntimeWarning: invalid value encountered in sqrt\n",
      "  data3 = [shift-np.sqrt(zp**2 + zp*(x + y) + x*y) for y in y_range_line]\n"
     ]
    },
    {
     "data": {
      "image/png": "[encoded data removed]",
      "text/plain": [
       "<Figure size 432x288 with 2 Axes>"
      ]
     },
     "metadata": {
      "needs_background": "light"
     },
     "output_type": "display_data"
    }
   ],
   "source": [
    "adj = 4.9\n",
    "shift = 8\n",
    "zp = -z_set*adj\n",
    "x = x_set*adj\n",
    "y_range_line = [0.01*yi*adj for yi in range(200)]\n",
    "data2 = [shift+np.sqrt(zp**2 + zp*(x + y) + x*y) for y in y_range_line]\n",
    "data3 = [shift-np.sqrt(zp**2 + zp*(x + y) + x*y) for y in y_range_line]\n",
    "\n",
    "#plt.xlim(0,1.5)\n",
    "#plt.ylim(-1.5,1.5)\n",
    "plt.plot(y_range_line,data2)\n",
    "plt.plot(y_range_line,data3)\n",
    "p1 = sns.heatmap(df)"
   ]
  },
  {
   "cell_type": "code",
   "execution_count": 18,
   "id": "533a87f7",
   "metadata": {},
   "outputs": [
    {
     "data": {
      "text/plain": [
       "Text(33.0, 0.5, 'm')"
      ]
     },
     "execution_count": 18,
     "metadata": {},
     "output_type": "execute_result"
    },
    {
     "data": {
      "image/png": "[encoded data removed]",
      "text/plain": [
       "<Figure size 432x288 with 2 Axes>"
      ]
     },
     "metadata": {
      "needs_background": "light"
     },
     "output_type": "display_data"
    }
   ],
   "source": [
    "# Create a dataset\n",
    "df = pd.DataFrame(np.array(E1_half),columns=y_range_half, index = m_range)\n",
    "\n",
    "# Default heatmap\n",
    "p1 = sns.heatmap(df)\n",
    "plt.title('E1 Lagos', fontsize = 20) # title with fontsize 20\n",
    "plt.xlabel('y', fontsize = 15) # x-axis label with fontsize 15\n",
    "plt.ylabel('m', fontsize = 15) # y-axis label with fontsize 15"
   ]
  },
  {
   "cell_type": "code",
   "execution_count": 19,
   "id": "d37b3647",
   "metadata": {},
   "outputs": [
    {
     "name": "stderr",
     "output_type": "stream",
     "text": [
      "<ipython-input-19-682d29ed08e3>:6: RuntimeWarning: invalid value encountered in sqrt\n",
      "  data2 = [shift+np.sqrt(zp**2 + zp*(x + y) + x*y) for y in y_range_line]\n",
      "<ipython-input-19-682d29ed08e3>:7: RuntimeWarning: invalid value encountered in sqrt\n",
      "  data3 = [shift-np.sqrt(zp**2 + zp*(x + y) + x*y) for y in y_range_line]\n",
      "<ipython-input-19-682d29ed08e3>:12: RuntimeWarning: invalid value encountered in sqrt\n",
      "  data4 = [shift+np.sqrt(zp**2 + zp*(x + y) + x*y) for y in y_range_line]\n",
      "<ipython-input-19-682d29ed08e3>:13: RuntimeWarning: invalid value encountered in sqrt\n",
      "  data5 = [shift-np.sqrt(zp**2 + zp*(x + y) + x*y) for y in y_range_line]\n"
     ]
    },
    {
     "data": {
      "image/png": "[encoded data removed]",
      "text/plain": [
       "<Figure size 432x288 with 2 Axes>"
      ]
     },
     "metadata": {
      "needs_background": "light"
     },
     "output_type": "display_data"
    }
   ],
   "source": [
    "adj = 4.9\n",
    "shift = 8\n",
    "zp = (-z_set)*adj\n",
    "x = x_set*adj\n",
    "y_range_line = [0.01*yi*adj for yi in range(200)]\n",
    "data2 = [shift+np.sqrt(zp**2 + zp*(x + y) + x*y) for y in y_range_line]\n",
    "data3 = [shift-np.sqrt(zp**2 + zp*(x + y) + x*y) for y in y_range_line]\n",
    "\n",
    "zp = (-z_set-0.25)*adj\n",
    "x = x_set*adj\n",
    "y_range_line = [0.01*yi*adj for yi in range(200)]\n",
    "data4 = [shift+np.sqrt(zp**2 + zp*(x + y) + x*y) for y in y_range_line]\n",
    "data5 = [shift-np.sqrt(zp**2 + zp*(x + y) + x*y) for y in y_range_line]\n",
    "\n",
    "#plt.xlim(0,1.5)\n",
    "#plt.ylim(-1.5,1.5)\n",
    "plt.plot(y_range_line,data2,color = 'blue',linewidth = 5)\n",
    "plt.plot(y_range_line,data3, color = 'blue',linewidth = 5)\n",
    "plt.plot(y_range_line,data4,color = 'green',linewidth = 5)\n",
    "plt.plot(y_range_line,data5, color = 'green',linewidth = 5)\n",
    "p1 = sns.heatmap(df)"
   ]
  },
  {
   "cell_type": "code",
   "execution_count": 20,
   "id": "1d10a9e7",
   "metadata": {},
   "outputs": [
    {
     "name": "stderr",
     "output_type": "stream",
     "text": [
      "<ipython-input-20-f08d431436ff>:6: RuntimeWarning: invalid value encountered in sqrt\n",
      "  data2 = [shift+np.sqrt(zp**2 + zp*(x + y) + x*y) for y in y_range_line]\n",
      "<ipython-input-20-f08d431436ff>:7: RuntimeWarning: invalid value encountered in sqrt\n",
      "  data3 = [shift-np.sqrt(zp**2 + zp*(x + y) + x*y) for y in y_range_line]\n"
     ]
    },
    {
     "data": {
      "text/plain": [
       "[<matplotlib.lines.Line2D at 0x7f872c7914f0>]"
      ]
     },
     "execution_count": 20,
     "metadata": {},
     "output_type": "execute_result"
    },
    {
     "data": {
      "image/png": "[encoded data removed]",
      "text/plain": [
       "<Figure size 432x288 with 1 Axes>"
      ]
     },
     "metadata": {
      "needs_background": "light"
     },
     "output_type": "display_data"
    }
   ],
   "source": [
    "adj = 1\n",
    "shift = 0\n",
    "zp = (-z_set-0.25)*adj\n",
    "x = x_set*adj\n",
    "y_range_line = [0.01*yi*adj for yi in range(200)]\n",
    "data2 = [shift+np.sqrt(zp**2 + zp*(x + y) + x*y) for y in y_range_line]\n",
    "data3 = [shift-np.sqrt(zp**2 + zp*(x + y) + x*y) for y in y_range_line]\n",
    "\n",
    "plt.xlim(0,1.5)\n",
    "plt.ylim(-1.5,1.5)\n",
    "plt.plot(y_range_line,data2)\n",
    "plt.plot(y_range_line,data3)\n"
   ]
  },
  {
   "cell_type": "markdown",
   "id": "b09355af",
   "metadata": {},
   "source": [
    "## Fitting function"
   ]
  },
  {
   "cell_type": "code",
   "execution_count": 24,
   "id": "7bc793bc",
   "metadata": {},
   "outputs": [],
   "source": [
    "import scipy.optimize as optimization\n",
    "\n",
    "def func(w, d1, S1,d2,S2,c):\n",
    "    return 1-np.abs(c/(c**2+(d1+w)**2)*S1 + c/(c**2+(d2+w)**2)*S2)**2\n",
    "\n",
    "mi = 7\n",
    "yi = 7\n",
    "\n",
    "\n",
    "d10 = 1.0\n",
    "S10 = 0.2\n",
    "d20 = -1.0\n",
    "S20 = 0.2\n",
    "c0 = c_set*4\n",
    "\n",
    "#Function fitting\n",
    "op =  optimization.curve_fit(func, w[mi][yi], z[mi][yi], p0 = [d10,S10,d20,S20,c0],maxfev = 50000, bounds = ([-5,0,-5,0,0],[5.0,2.0,5.0,2.0,10])) \n",
    "\n",
    "#Data Smoothing\n",
    "dz,w2 = avg_div(z[mi][yi],w[mi][yi],4)\n",
    "zeros = find_zeros(dz,w2,offset)\n"
   ]
  },
  {
   "cell_type": "code",
   "execution_count": 25,
   "id": "e2ec692e",
   "metadata": {},
   "outputs": [
    {
     "data": {
      "text/plain": [
       "[<matplotlib.lines.Line2D at 0x7f9c9343f6d0>]"
      ]
     },
     "execution_count": 25,
     "metadata": {},
     "output_type": "execute_result"
    },
    {
     "data": {
      "image/png": "[encoded data removed]",
      "text/plain": [
       "<Figure size 432x288 with 1 Axes>"
      ]
     },
     "metadata": {
      "needs_background": "light"
     },
     "output_type": "display_data"
    }
   ],
   "source": [
    "#Compare Data Smoothing to Function Fitting\n",
    "d1 = op[0][0]\n",
    "S1 = op[0][1]\n",
    "d2 = op[0][2]\n",
    "S2 = op[0][3]\n",
    "c = op[0][4]\n",
    "fit_data = [func(wi,d1,S1,d2,S2,c) for wi in w[0][0]]\n",
    "\n",
    "plt.plot(w[mi][yi],fit_data)\n",
    "plt.plot(w[mi][yi],z[mi][yi])\n",
    "plt.plot(np.real([-op[0][0], -op[0][0]]), [0.7, 1], ls='--', color='green')\n",
    "plt.plot(np.real([-op[0][2], -op[0][2]]), [0.7, 1], ls='--', color='green')\n",
    "#plt.plot(np.real([zeros[0], zeros[0]]), [0.7, 1], ls='--', color='red')\n",
    "#plt.plot(np.real([zeros[1], zeros[1]]), [0.7, 1], ls='--', color='red')"
   ]
  },
  {
   "cell_type": "code",
   "execution_count": 26,
   "id": "7f9cc809",
   "metadata": {},
   "outputs": [
    {
     "name": "stdout",
     "output_type": "stream",
     "text": [
      "[1.1900000000000004]\n"
     ]
    },
    {
     "data": {
      "text/plain": [
       "array([-0.32304514,  0.49743449, -1.662155  ,  0.76902707,  2.19718146])"
      ]
     },
     "execution_count": 26,
     "metadata": {},
     "output_type": "execute_result"
    }
   ],
   "source": [
    "print(zeros)\n",
    "op[0]"
   ]
  },
  {
   "cell_type": "code",
   "execution_count": null,
   "id": "56e4aee4",
   "metadata": {},
   "outputs": [],
   "source": []
  },
  {
   "cell_type": "code",
   "execution_count": 27,
   "id": "d7164851",
   "metadata": {},
   "outputs": [
    {
     "name": "stdout",
     "output_type": "stream",
     "text": [
      "0 0 1.6895907112853747\n",
      "0 1 0.8142375945962962\n",
      "0 2 0.8062883841761912\n",
      "0 3 0.6738270969115511\n",
      "0 4 0.8550760854278934\n",
      "0 5 0.5551845966598034\n",
      "0 6 1.2263708095892014\n",
      "0 7 1.7920203625621796\n",
      "0 8 1.3862026921924764\n",
      "0 9 1.3330369068900751\n",
      "0 10 1.140870800782099\n",
      "0 11 0.6912260902469292\n",
      "0 12 1.1537412503084215\n",
      "0 13 1.3442249028596913\n",
      "0 14 1.1830239684216857\n",
      "0 15 1.3263816838685296\n",
      "1 0 1.354446715473395\n",
      "1 1 0.870181802143589\n",
      "1 2 0.8490934654606481\n",
      "1 3 0.7463186704251613\n",
      "1 4 0.9603060219930666\n",
      "1 5 0.7503527684309683\n",
      "1 6 0.9739347145500109\n",
      "1 7 1.9267533767411538\n",
      "1 8 1.4685106889277688\n",
      "1 9 1.2931197100014653\n",
      "1 10 1.419801740332381\n",
      "1 11 1.098863749879886\n",
      "1 12 1.7431533561262196\n",
      "1 13 1.5821415753682782\n",
      "1 14 1.409753909740858\n",
      "1 15 1.586451165747201\n",
      "2 0 1.38603342604594\n",
      "2 1 0.6792112321035447\n",
      "2 2 0.8854622755067101\n",
      "2 3 0.7271922081754212\n",
      "2 4 0.9652700723091833\n",
      "2 5 0.9092960654296172\n",
      "2 6 0.891921042962243\n",
      "2 7 1.9204440698210743\n",
      "2 8 1.571578093611945\n",
      "2 9 1.4715222286198144\n",
      "2 10 1.5275395283023339\n",
      "2 11 1.3536319446771137\n",
      "2 12 1.986287966970643\n",
      "2 13 1.8505408599448472\n",
      "2 14 1.6767953180669342\n",
      "2 15 1.8001924296863385\n",
      "3 0 1.2848655963196587\n",
      "3 1 3.0119244848867357\n",
      "3 2 0.9317011187805012\n",
      "3 3 0.7599098844116245\n",
      "3 4 0.9896351945032411\n",
      "3 5 1.0323508568221902\n",
      "3 6 1.0143751362293474\n",
      "3 7 1.8811644630055633\n",
      "3 8 1.547094796574504\n",
      "3 9 1.572590891001703\n",
      "3 10 1.8728893691362447\n",
      "3 11 1.2025619896947508\n",
      "3 12 2.167714386480891\n",
      "3 13 2.130170354611728\n",
      "3 14 1.9707151595376544\n",
      "3 15 2.0638802389119544\n",
      "4 0 2.2544748746505103\n",
      "4 1 2.554913530727599\n",
      "4 2 1.0632908750058274\n",
      "4 3 0.6617624828050611\n",
      "4 4 0.9868592818508753\n",
      "4 5 0.9514576870122703\n",
      "4 6 1.1079818104545123\n",
      "4 7 1.1945838009480791\n",
      "4 8 1.5336521569886836\n",
      "4 9 1.596486750552199\n",
      "4 10 1.8702402896196035\n",
      "4 11 1.7770421219672838\n",
      "4 12 2.290700257964551\n",
      "4 13 2.3763646681704333\n",
      "4 14 2.3072841315597787\n",
      "4 15 2.3456741218508657\n",
      "5 0 2.5236864365194327\n",
      "5 1 2.102003448103629\n",
      "5 2 1.6263226076694568\n",
      "5 3 0.594847327828741\n",
      "5 4 1.259967999798656\n",
      "5 5 1.0010872053719917\n",
      "5 6 1.1447431361753646\n",
      "5 7 1.1738635888665339\n",
      "5 8 1.5104467431968576\n",
      "5 9 1.5624437171689483\n",
      "5 10 1.3541872062445561\n",
      "5 11 1.1964333332000268\n",
      "5 12 2.3672136677698927\n",
      "5 13 2.512700365446466\n",
      "5 14 2.8278196320917295\n",
      "5 15 2.6558212463461435\n",
      "6 0 3.4487222033751452\n",
      "6 1 1.9550895893540086\n",
      "6 2 2.151682799287328\n",
      "6 3 0.7920575041642237\n",
      "6 4 1.4383276780357548\n",
      "6 5 1.026422494462992\n",
      "6 6 1.1767589259887634\n",
      "6 7 1.1967979825788866\n",
      "6 8 1.4864245422294895\n",
      "6 9 1.5089116922033141\n",
      "6 10 1.0943486655527983\n",
      "6 11 1.7089863081893497\n",
      "6 12 2.3100465681171327\n",
      "6 13 0.8598011959597786\n",
      "6 14 0.11574766803935077\n",
      "6 15 3.2260874904869596\n",
      "7 0 3.2973357794662395\n",
      "7 1 1.8699382666779063\n",
      "7 2 2.156360613266462\n",
      "7 3 1.6907091076169078\n",
      "7 4 1.2250239529946596\n",
      "7 5 1.0685194095384523\n",
      "7 6 1.2284411506270065\n",
      "7 7 1.6621549990497362\n",
      "7 8 1.4016767448495624\n",
      "7 9 1.3651744338604805\n",
      "7 10 0.870536822830417\n",
      "7 11 1.7188859218347607\n",
      "7 12 0.3458508177721585\n",
      "7 13 1.06027326669583\n",
      "7 14 0.6018503530454714\n",
      "7 15 4.999999999999992\n",
      "8 0 2.8558274465508946\n",
      "8 1 1.8093939998847701\n",
      "8 2 1.9149321094162712\n",
      "8 3 1.8995276344287366\n",
      "8 4 1.8673680056208173\n",
      "8 5 1.1603139007230534\n",
      "8 6 1.3031794628755988\n",
      "8 7 1.5742079473457409\n",
      "8 8 1.3419149975285025\n",
      "8 9 1.256535728385841\n",
      "8 10 0.7824127116611842\n",
      "8 11 1.7209173502799544\n",
      "8 12 0.48891152156166917\n",
      "8 13 1.481470172695491\n",
      "8 14 0.8557698190297486\n",
      "8 15 0.880193350685902\n",
      "9 0 2.521303794282086\n",
      "9 1 1.7632775751775969\n",
      "9 2 1.875379540009169\n",
      "9 3 1.9982464323968128\n",
      "9 4 1.5258319041393753\n",
      "9 5 1.4201367888900676\n",
      "9 6 1.4212983234789471\n",
      "9 7 1.2681242233575318\n",
      "9 8 1.3899478376120635\n",
      "9 9 1.270129408918531\n",
      "9 10 0.8717530237655431\n",
      "9 11 1.7238234597520508\n",
      "9 12 0.5896469784607395\n",
      "9 13 1.705119346146793\n",
      "9 14 1.2599267359430564\n",
      "9 15 0.11610098239111898\n",
      "10 0 2.3812097649677653\n",
      "10 1 1.793857980650322\n",
      "10 2 1.9023014859778014\n",
      "10 3 2.111621627799213\n",
      "10 4 2.032242292128935\n",
      "10 5 1.904260922599614\n",
      "10 6 1.607890381703449\n",
      "10 7 1.4588655148414897\n",
      "10 8 1.69174855019359\n",
      "10 9 1.4440445297139843\n",
      "10 10 1.1747340200653271\n",
      "10 11 0.6643882762858234\n",
      "10 12 0.8443536278772584\n",
      "10 13 1.7982099739405664\n",
      "10 14 1.552553111956728\n",
      "10 15 0.2765043017342695\n",
      "11 0 2.2432094790004022\n",
      "11 1 1.776819648501319\n",
      "11 2 1.900654243976395\n",
      "11 3 2.234406992872246\n",
      "11 4 2.1326967247934707\n",
      "11 5 2.095744089092517\n",
      "11 6 1.9613319024284326\n",
      "11 7 1.8008846420495421\n",
      "11 8 2.2291529359975812\n",
      "11 9 1.9593156767632949\n",
      "11 10 1.4627957531584426\n",
      "11 11 1.0695921787628289\n",
      "11 12 1.222303177420364\n",
      "11 13 1.7244910442146528\n",
      "11 14 1.8240423222525113\n",
      "11 15 0.5788021145580202\n",
      "12 0 2.158579972199712\n",
      "12 1 1.771962869363092\n",
      "12 2 1.924777485320613\n",
      "12 3 2.2788590573979444\n",
      "12 4 2.19954897857597\n",
      "12 5 2.164562168941428\n",
      "12 6 2.0616375902443527\n",
      "12 7 1.9632375403393083\n",
      "12 8 2.5125520934770034\n",
      "12 9 2.27670865233869\n",
      "12 10 1.9061569555386209\n",
      "12 11 1.3457905237926042\n",
      "12 12 1.632402936515153\n",
      "12 13 1.2604016052167348\n",
      "12 14 2.1542337205909585\n",
      "12 15 0.7701997033063875\n",
      "13 0 2.101281053117666\n",
      "13 1 1.8076222867415193\n",
      "13 2 1.9845869262151943\n",
      "13 3 2.304396330917549\n",
      "13 4 2.232458757867399\n",
      "13 5 2.1649458500339493\n",
      "13 6 2.099073751090957\n",
      "13 7 2.041239466135476\n",
      "13 8 2.6165895630180156\n",
      "13 9 2.4533384852122953\n",
      "13 10 2.1724052296620298\n",
      "13 11 1.5935020182402098\n",
      "13 12 1.919620366594949\n",
      "13 13 1.010993846564605\n",
      "13 14 0.11147666684799129\n",
      "13 15 1.009279135096576\n",
      "14 0 2.137473177058697\n",
      "14 1 1.7969266068704277\n",
      "14 2 1.984740997922181\n",
      "14 3 2.4774971455036767\n",
      "14 4 2.4143527381313143\n",
      "14 5 3.567851311538797\n",
      "14 6 1.9673252196579347\n",
      "14 7 2.037366065218242\n",
      "14 8 2.5336871650384127\n",
      "14 9 2.5715273420431157\n",
      "14 10 2.3733651101472524\n",
      "14 11 1.8526837857116283\n",
      "14 12 2.168779048020039\n",
      "14 13 1.2014929896232325\n",
      "14 14 0.5641196044799108\n",
      "14 15 1.1609129072359627\n",
      "15 0 2.1831594987428273\n",
      "15 1 1.7256115619886383\n",
      "15 2 1.8813934972147648\n",
      "15 3 2.7895924627701487\n",
      "15 4 2.9894446629331792\n",
      "15 5 0.5840082385382185\n",
      "15 6 1.10028974173739\n",
      "15 7 1.9468669248624872\n",
      "15 8 0.9780492188896025\n",
      "15 9 3.7115466311615672\n",
      "15 10 2.8006168822185797\n",
      "15 11 1.9908368695255754\n",
      "15 12 2.3678945358399424\n",
      "15 13 1.6279486272477475\n",
      "15 14 0.9206718074871667\n",
      "15 15 1.3772592150956384\n"
     ]
    }
   ],
   "source": [
    "#Finds fits\n",
    "d10 = 1.0\n",
    "S10 = 0.2\n",
    "d20 = -1.0\n",
    "S20 = 0.2\n",
    "c0 = c_set*4\n",
    "E1 = []\n",
    "E2 = []\n",
    "Ly = len(y_range)\n",
    "Lm = len(m_range)\n",
    "for mi in range(Ly):\n",
    "    E1_y = []\n",
    "    E2_y = []\n",
    "    for yi in range(Lm):\n",
    "        zl = z[mi][yi]\n",
    "        wl = w[mi][yi]\n",
    "        op =  optimization.curve_fit(func, w[mi][yi], z[mi][yi], p0 = [d10,S10,d20,S20,c0],maxfev = 50000, bounds = ([-5,0,-5,0,0],[5.0,2.0,5.0,2.0,10]))         \n",
    "        E1_z = abs(min([op[0][0],op[0][2]]))\n",
    "        E2_z = abs(max([op[0][0],op[0][2]]))\n",
    "        print(mi,yi,E1_z)\n",
    "        E1_y.append(E1_z)\n",
    "        E2_y.append(E2_z)\n",
    "    E1.append(E1_y)\n",
    "    E2.append(E2_y)"
   ]
  },
  {
   "cell_type": "code",
   "execution_count": 28,
   "id": "b82949b2",
   "metadata": {},
   "outputs": [
    {
     "data": {
      "text/plain": [
       "[[1.6895907112853747,\n",
       "  0.8142375945962962,\n",
       "  0.8062883841761912,\n",
       "  0.6738270969115511,\n",
       "  0.8550760854278934,\n",
       "  0.5551845966598034,\n",
       "  1.2263708095892014,\n",
       "  1.7920203625621796,\n",
       "  1.3862026921924764,\n",
       "  1.3330369068900751,\n",
       "  1.140870800782099,\n",
       "  0.6912260902469292,\n",
       "  1.1537412503084215,\n",
       "  1.3442249028596913,\n",
       "  1.1830239684216857,\n",
       "  1.3263816838685296],\n",
       " [1.354446715473395,\n",
       "  0.870181802143589,\n",
       "  0.8490934654606481,\n",
       "  0.7463186704251613,\n",
       "  0.9603060219930666,\n",
       "  0.7503527684309683,\n",
       "  0.9739347145500109,\n",
       "  1.9267533767411538,\n",
       "  1.4685106889277688,\n",
       "  1.2931197100014653,\n",
       "  1.419801740332381,\n",
       "  1.098863749879886,\n",
       "  1.7431533561262196,\n",
       "  1.5821415753682782,\n",
       "  1.409753909740858,\n",
       "  1.586451165747201],\n",
       " [1.38603342604594,\n",
       "  0.6792112321035447,\n",
       "  0.8854622755067101,\n",
       "  0.7271922081754212,\n",
       "  0.9652700723091833,\n",
       "  0.9092960654296172,\n",
       "  0.891921042962243,\n",
       "  1.9204440698210743,\n",
       "  1.571578093611945,\n",
       "  1.4715222286198144,\n",
       "  1.5275395283023339,\n",
       "  1.3536319446771137,\n",
       "  1.986287966970643,\n",
       "  1.8505408599448472,\n",
       "  1.6767953180669342,\n",
       "  1.8001924296863385],\n",
       " [1.2848655963196587,\n",
       "  3.0119244848867357,\n",
       "  0.9317011187805012,\n",
       "  0.7599098844116245,\n",
       "  0.9896351945032411,\n",
       "  1.0323508568221902,\n",
       "  1.0143751362293474,\n",
       "  1.8811644630055633,\n",
       "  1.547094796574504,\n",
       "  1.572590891001703,\n",
       "  1.8728893691362447,\n",
       "  1.2025619896947508,\n",
       "  2.167714386480891,\n",
       "  2.130170354611728,\n",
       "  1.9707151595376544,\n",
       "  2.0638802389119544],\n",
       " [2.2544748746505103,\n",
       "  2.554913530727599,\n",
       "  1.0632908750058274,\n",
       "  0.6617624828050611,\n",
       "  0.9868592818508753,\n",
       "  0.9514576870122703,\n",
       "  1.1079818104545123,\n",
       "  1.1945838009480791,\n",
       "  1.5336521569886836,\n",
       "  1.596486750552199,\n",
       "  1.8702402896196035,\n",
       "  1.7770421219672838,\n",
       "  2.290700257964551,\n",
       "  2.3763646681704333,\n",
       "  2.3072841315597787,\n",
       "  2.3456741218508657],\n",
       " [2.5236864365194327,\n",
       "  2.102003448103629,\n",
       "  1.6263226076694568,\n",
       "  0.594847327828741,\n",
       "  1.259967999798656,\n",
       "  1.0010872053719917,\n",
       "  1.1447431361753646,\n",
       "  1.1738635888665339,\n",
       "  1.5104467431968576,\n",
       "  1.5624437171689483,\n",
       "  1.3541872062445561,\n",
       "  1.1964333332000268,\n",
       "  2.3672136677698927,\n",
       "  2.512700365446466,\n",
       "  2.8278196320917295,\n",
       "  2.6558212463461435],\n",
       " [3.4487222033751452,\n",
       "  1.9550895893540086,\n",
       "  2.151682799287328,\n",
       "  0.7920575041642237,\n",
       "  1.4383276780357548,\n",
       "  1.026422494462992,\n",
       "  1.1767589259887634,\n",
       "  1.1967979825788866,\n",
       "  1.4864245422294895,\n",
       "  1.5089116922033141,\n",
       "  1.0943486655527983,\n",
       "  1.7089863081893497,\n",
       "  2.3100465681171327,\n",
       "  0.8598011959597786,\n",
       "  0.11574766803935077,\n",
       "  3.2260874904869596],\n",
       " [3.2973357794662395,\n",
       "  1.8699382666779063,\n",
       "  2.156360613266462,\n",
       "  1.6907091076169078,\n",
       "  1.2250239529946596,\n",
       "  1.0685194095384523,\n",
       "  1.2284411506270065,\n",
       "  1.6621549990497362,\n",
       "  1.4016767448495624,\n",
       "  1.3651744338604805,\n",
       "  0.870536822830417,\n",
       "  1.7188859218347607,\n",
       "  0.3458508177721585,\n",
       "  1.06027326669583,\n",
       "  0.6018503530454714,\n",
       "  4.999999999999992],\n",
       " [2.8558274465508946,\n",
       "  1.8093939998847701,\n",
       "  1.9149321094162712,\n",
       "  1.8995276344287366,\n",
       "  1.8673680056208173,\n",
       "  1.1603139007230534,\n",
       "  1.3031794628755988,\n",
       "  1.5742079473457409,\n",
       "  1.3419149975285025,\n",
       "  1.256535728385841,\n",
       "  0.7824127116611842,\n",
       "  1.7209173502799544,\n",
       "  0.48891152156166917,\n",
       "  1.481470172695491,\n",
       "  0.8557698190297486,\n",
       "  0.880193350685902],\n",
       " [2.521303794282086,\n",
       "  1.7632775751775969,\n",
       "  1.875379540009169,\n",
       "  1.9982464323968128,\n",
       "  1.5258319041393753,\n",
       "  1.4201367888900676,\n",
       "  1.4212983234789471,\n",
       "  1.2681242233575318,\n",
       "  1.3899478376120635,\n",
       "  1.270129408918531,\n",
       "  0.8717530237655431,\n",
       "  1.7238234597520508,\n",
       "  0.5896469784607395,\n",
       "  1.705119346146793,\n",
       "  1.2599267359430564,\n",
       "  0.11610098239111898],\n",
       " [2.3812097649677653,\n",
       "  1.793857980650322,\n",
       "  1.9023014859778014,\n",
       "  2.111621627799213,\n",
       "  2.032242292128935,\n",
       "  1.904260922599614,\n",
       "  1.607890381703449,\n",
       "  1.4588655148414897,\n",
       "  1.69174855019359,\n",
       "  1.4440445297139843,\n",
       "  1.1747340200653271,\n",
       "  0.6643882762858234,\n",
       "  0.8443536278772584,\n",
       "  1.7982099739405664,\n",
       "  1.552553111956728,\n",
       "  0.2765043017342695],\n",
       " [2.2432094790004022,\n",
       "  1.776819648501319,\n",
       "  1.900654243976395,\n",
       "  2.234406992872246,\n",
       "  2.1326967247934707,\n",
       "  2.095744089092517,\n",
       "  1.9613319024284326,\n",
       "  1.8008846420495421,\n",
       "  2.2291529359975812,\n",
       "  1.9593156767632949,\n",
       "  1.4627957531584426,\n",
       "  1.0695921787628289,\n",
       "  1.222303177420364,\n",
       "  1.7244910442146528,\n",
       "  1.8240423222525113,\n",
       "  0.5788021145580202],\n",
       " [2.158579972199712,\n",
       "  1.771962869363092,\n",
       "  1.924777485320613,\n",
       "  2.2788590573979444,\n",
       "  2.19954897857597,\n",
       "  2.164562168941428,\n",
       "  2.0616375902443527,\n",
       "  1.9632375403393083,\n",
       "  2.5125520934770034,\n",
       "  2.27670865233869,\n",
       "  1.9061569555386209,\n",
       "  1.3457905237926042,\n",
       "  1.632402936515153,\n",
       "  1.2604016052167348,\n",
       "  2.1542337205909585,\n",
       "  0.7701997033063875],\n",
       " [2.101281053117666,\n",
       "  1.8076222867415193,\n",
       "  1.9845869262151943,\n",
       "  2.304396330917549,\n",
       "  2.232458757867399,\n",
       "  2.1649458500339493,\n",
       "  2.099073751090957,\n",
       "  2.041239466135476,\n",
       "  2.6165895630180156,\n",
       "  2.4533384852122953,\n",
       "  2.1724052296620298,\n",
       "  1.5935020182402098,\n",
       "  1.919620366594949,\n",
       "  1.010993846564605,\n",
       "  0.11147666684799129,\n",
       "  1.009279135096576],\n",
       " [2.137473177058697,\n",
       "  1.7969266068704277,\n",
       "  1.984740997922181,\n",
       "  2.4774971455036767,\n",
       "  2.4143527381313143,\n",
       "  3.567851311538797,\n",
       "  1.9673252196579347,\n",
       "  2.037366065218242,\n",
       "  2.5336871650384127,\n",
       "  2.5715273420431157,\n",
       "  2.3733651101472524,\n",
       "  1.8526837857116283,\n",
       "  2.168779048020039,\n",
       "  1.2014929896232325,\n",
       "  0.5641196044799108,\n",
       "  1.1609129072359627],\n",
       " [2.1831594987428273,\n",
       "  1.7256115619886383,\n",
       "  1.8813934972147648,\n",
       "  2.7895924627701487,\n",
       "  2.9894446629331792,\n",
       "  0.5840082385382185,\n",
       "  1.10028974173739,\n",
       "  1.9468669248624872,\n",
       "  0.9780492188896025,\n",
       "  3.7115466311615672,\n",
       "  2.8006168822185797,\n",
       "  1.9908368695255754,\n",
       "  2.3678945358399424,\n",
       "  1.6279486272477475,\n",
       "  0.9206718074871667,\n",
       "  1.3772592150956384]]"
      ]
     },
     "execution_count": 28,
     "metadata": {},
     "output_type": "execute_result"
    }
   ],
   "source": [
    "E1"
   ]
  },
  {
   "cell_type": "code",
   "execution_count": 29,
   "id": "2b31bdda",
   "metadata": {},
   "outputs": [
    {
     "data": {
      "text/plain": [
       "Text(33.0, 0.5, 'm')"
      ]
     },
     "execution_count": 29,
     "metadata": {},
     "output_type": "execute_result"
    },
    {
     "data": {
      "image/png": "[encoded data removed]",
      "text/plain": [
       "<Figure size 432x288 with 2 Axes>"
      ]
     },
     "metadata": {
      "needs_background": "light"
     },
     "output_type": "display_data"
    }
   ],
   "source": [
    "# Create a dataset\n",
    "df = pd.DataFrame(np.array(E1),columns=y_range, index = m_range)\n",
    "\n",
    "# Default heatmap\n",
    "p1 = sns.heatmap(df,vmax = 10)\n",
    "plt.title('E1 Lagos', fontsize = 20) # title with fontsize 20\n",
    "plt.xlabel('y', fontsize = 15) # x-axis label with fontsize 15\n",
    "plt.ylabel('m', fontsize = 15) # y-axis label with fontsize 15"
   ]
  },
  {
   "cell_type": "code",
   "execution_count": 30,
   "id": "8b555562",
   "metadata": {},
   "outputs": [],
   "source": [
    "#Finds the best value between +m and -m\n",
    "mL = len(m_range)\n",
    "yL = len(y_range)\n",
    "E1s_sym = copy.deepcopy(E1s)\n",
    "for mi in range(int(mL/2)):\n",
    "    for yi in range(yL):\n",
    "        E1s_sym[mi][yi] = min(E1[mi][yi],E1[mL-mi-1][yi])\n",
    "        E1s_sym[mL-mi-1][yi] = min(E1[mi][yi],E1[mL-mi-1][yi])\n",
    "\n",
    "#Cuts off the negetive y values        \n",
    "mL = len(m_range)\n",
    "yL = len(y_range)\n",
    "E1s_half = []\n",
    "for mi in range(0,mL):\n",
    "    E1s_half_m = []\n",
    "    for yi in range(int(yL/2),yL):\n",
    "        E1s_half_m.append(E1s_sym[mi][yi])\n",
    "    E1s_half.append(E1s_half_m)\n",
    "y_range_half = y_range[int(yL/2):yL]"
   ]
  },
  {
   "cell_type": "code",
   "execution_count": 31,
   "id": "47bc1903",
   "metadata": {},
   "outputs": [
    {
     "data": {
      "text/plain": [
       "Text(33.0, 0.5, 'm')"
      ]
     },
     "execution_count": 31,
     "metadata": {},
     "output_type": "execute_result"
    },
    {
     "data": {
      "image/png": "[encoded data removed]",
      "text/plain": [
       "<Figure size 432x288 with 2 Axes>"
      ]
     },
     "metadata": {
      "needs_background": "light"
     },
     "output_type": "display_data"
    }
   ],
   "source": [
    "# Create a dataset\n",
    "df = pd.DataFrame(np.array(E1s_sym),columns=y_range, index = m_range)\n",
    "\n",
    "# Default heatmap\n",
    "p1 = sns.heatmap(df)\n",
    "plt.title('E1 Lagos', fontsize = 20) # title with fontsize 20\n",
    "plt.xlabel('y', fontsize = 15) # x-axis label with fontsize 15\n",
    "plt.ylabel('m', fontsize = 15) # y-axis label with fontsize 15"
   ]
  },
  {
   "cell_type": "code",
   "execution_count": 32,
   "id": "8b042537",
   "metadata": {},
   "outputs": [
    {
     "data": {
      "text/plain": [
       "Text(33.0, 0.5, 'm')"
      ]
     },
     "execution_count": 32,
     "metadata": {},
     "output_type": "execute_result"
    },
    {
     "data": {
      "image/png": "[encoded data removed]",
      "text/plain": [
       "<Figure size 432x288 with 2 Axes>"
      ]
     },
     "metadata": {
      "needs_background": "light"
     },
     "output_type": "display_data"
    }
   ],
   "source": [
    "# Create a dataset\n",
    "df = pd.DataFrame(np.array(E1s_half),columns=y_range_half, index = m_range)\n",
    "\n",
    "# Default heatmap\n",
    "p1 = sns.heatmap(df)\n",
    "plt.title('E1 Lagos', fontsize = 20) # title with fontsize 20\n",
    "plt.xlabel('y', fontsize = 15) # x-axis label with fontsize 15\n",
    "plt.ylabel('m', fontsize = 15) # y-axis label with fontsize 15"
   ]
  },
  {
   "cell_type": "code",
   "execution_count": null,
   "id": "755a4a81",
   "metadata": {},
   "outputs": [],
   "source": []
  },
  {
   "cell_type": "code",
   "execution_count": null,
   "id": "8f37d5b0",
   "metadata": {},
   "outputs": [],
   "source": []
  },
  {
   "cell_type": "code",
   "execution_count": null,
   "id": "7909fee6",
   "metadata": {},
   "outputs": [],
   "source": []
  }
 ],
 "metadata": {
  "kernelspec": {
   "display_name": "qiskit (dev)",
   "language": "python",
   "name": "qiskit-dev"
  },
  "language_info": {
   "codemirror_mode": {
    "name": "ipython",
    "version": 3
   },
   "file_extension": ".py",
   "mimetype": "text/x-python",
   "name": "python",
   "nbconvert_exporter": "python",
   "pygments_lexer": "ipython3",
   "version": "3.9.4"
  },
  "toc": {
   "base_numbering": 1,
   "nav_menu": {},
   "number_sections": true,
   "sideBar": true,
   "skip_h1_title": false,
   "title_cell": "Table of Contents",
   "title_sidebar": "Contents",
   "toc_cell": false,
   "toc_position": {},
   "toc_section_display": true,
   "toc_window_display": false
  }
 },
 "nbformat": 4,
 "nbformat_minor": 5
}
